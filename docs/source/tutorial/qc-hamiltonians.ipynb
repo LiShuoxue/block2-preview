{
  "cells": [
    {
      "attachments": {},
      "cell_type": "markdown",
      "metadata": {
        "id": "f1v7ZIHNvg7D"
      },
      "source": [
        "# Quantum Chemistry Hamiltonians"
      ]
    },
    {
      "cell_type": "code",
      "execution_count": 1,
      "metadata": {
        "id": "yVRKfOfyvaox"
      },
      "outputs": [],
      "source": [
        "!pip install block2==0.5.2rc5 -qq --progress-bar off --extra-index-url=https://block-hczhai.github.io/block2-preview/pypi/\n",
        "!pip install pyscf==2.1.1 -qq --progress-bar off"
      ]
    },
    {
      "attachments": {},
      "cell_type": "markdown",
      "metadata": {
        "id": "QbsjgwANwd-C"
      },
      "source": [
        "## Introduction\n",
        "\n",
        "In this tutorial we explain how to perform quantum chemistry DMRG using the python interface of ``block2``.\n",
        "\n",
        "The quantum chemistry Hamiltonian in its second quantized form has to be defined in a set of orbitals, such as the Hartree-Fock (or Density Functional Theory) orbitals. The symmetry that can be used in the DMRG calculation thus has a dependence on the symmetry of the Hartree-Fock orbitals.\n",
        "\n",
        "1. For spin-restricted Hartree-Fock (RHF) orbitals, we can perform spin-adapted DMRG (``SU2`` mode in ``block2``) or non-spin-adapted DMRG with any lower symmetries (``SZ`` or ``SGF``).\n",
        "\n",
        "2. For spin-unrestricted Hartree-Fock (UHF) orbitals, we can perform non-spin-adapted DMRG (``SZ`` mode in ``block2``) or DMRG with lower symmetries (such as ``SGF``).\n",
        "\n",
        "3. For general Hartree-Fock (GHF) orbitals, we can perform DMRG in spin-orbitals (``SGF`` mode in ``block2``) or first translate the Hamiltonian into the qubit Hamiltonian then do DMRG (``SGB`` mode in ``block2``).\n",
        "\n",
        "4. For relativistic Dirac Hartree-Fock (DHF) orbitals, we can perform DMRG in complex spin-orbitals (``SGFCPX`` mode in ``block2``).\n",
        "\n",
        "Next, we will explain how to set up the integrals and perform DMRG in each of the modes (1) (2) (3) and (4). The quantum chemistry integrals will be generated using ``pyscf`` and transformed using funtions defined in ``pyblock2._pyscf.ao2mo``.\n"
      ]
    },
    {
      "cell_type": "code",
      "execution_count": 2,
      "metadata": {
        "id": "aEtzPUucyvCg"
      },
      "outputs": [],
      "source": [
        "import numpy as np\n",
        "from pyblock2._pyscf.ao2mo import integrals as itg\n",
        "from pyblock2.driver.core import DMRGDriver, SymmetryTypes"
      ]
    },
    {
      "attachments": {},
      "cell_type": "markdown",
      "metadata": {
        "id": "kzFc7fBTyuQ_"
      },
      "source": [
        "## Spin-Restricted Integrals\n",
        "\n",
        "Here we use ``get_rhf_integrals`` function to get the integrals. Note that in order to do DMRG in a CASCI space, one can set the ``ncore`` (number of core orbitals) and ``ncas`` (number of active orbitals) parameters in ``get_*_integrals``. ``ncas=None`` will include all orbitals in DMRG.\n",
        "\n",
        "For medium to large scale DMRG calculations, it is highly recommended to use a scratch space with high IO speed rather than the ``./tmp`` used in the following example. One also needs to set a suitable ``stack_mem`` in the ``DMRGDriver`` constructor to set the memory used for storing renormalized operators (in bytes). The default is ``stack_mem=int(1024**3)`` (1 GB). For medium scale calculations 10 to 30 GB might be required.\n",
        "\n",
        "For the meaning of DMRG parameters, please have a look at the [Hubbard - Run DMRG](https://block2.readthedocs.io/en/latest/tutorial/hubbard.html#Run-DMRG) page."
      ]
    },
    {
      "cell_type": "code",
      "execution_count": 3,
      "metadata": {
        "colab": {
          "base_uri": "https://localhost:8080/"
        },
        "id": "6t5RHG5hvv8V",
        "outputId": "1522dc01-87e4-44cb-a3e1-512116e076d2"
      },
      "outputs": [
        {
          "name": "stdout",
          "output_type": "stream",
          "text": [
            "integral symmetrize error =  6.220297364062989e-14\n",
            "integral cutoff error =  0.0\n",
            "mpo terms =        972\n",
            "\n",
            "Build MPO | Nsites =    10 | Nterms =        972 | Algorithm = FastBIP | Cutoff = 1.00e-20\n",
            " Site =     0 /    10 .. Mmpo =    13 DW = 0.00e+00 NNZ =       13 SPT = 0.0000 Tmvc = 0.000 T = 0.009\n",
            " Site =     1 /    10 .. Mmpo =    34 DW = 0.00e+00 NNZ =       59 SPT = 0.8665 Tmvc = 0.001 T = 0.009\n",
            " Site =     2 /    10 .. Mmpo =    56 DW = 0.00e+00 NNZ =      117 SPT = 0.9386 Tmvc = 0.000 T = 0.009\n",
            " Site =     3 /    10 .. Mmpo =    70 DW = 0.00e+00 NNZ =      363 SPT = 0.9074 Tmvc = 0.001 T = 0.009\n",
            " Site =     4 /    10 .. Mmpo =    80 DW = 0.00e+00 NNZ =      217 SPT = 0.9613 Tmvc = 0.000 T = 0.007\n",
            " Site =     5 /    10 .. Mmpo =    94 DW = 0.00e+00 NNZ =      201 SPT = 0.9733 Tmvc = 0.000 T = 0.008\n",
            " Site =     6 /    10 .. Mmpo =    54 DW = 0.00e+00 NNZ =      169 SPT = 0.9667 Tmvc = 0.000 T = 0.007\n",
            " Site =     7 /    10 .. Mmpo =    30 DW = 0.00e+00 NNZ =       73 SPT = 0.9549 Tmvc = 0.000 T = 0.006\n",
            " Site =     8 /    10 .. Mmpo =    13 DW = 0.00e+00 NNZ =       41 SPT = 0.8949 Tmvc = 0.000 T = 0.008\n",
            " Site =     9 /    10 .. Mmpo =     1 DW = 0.00e+00 NNZ =       13 SPT = 0.0000 Tmvc = 0.000 T = 0.006\n",
            "Ttotal =      0.078 Tmvc-total = 0.004 MPO bond dimension =    94 MaxDW = 0.00e+00\n",
            "NNZ =         1266 SIZE =        26498 SPT = 0.9522\n",
            "\n",
            "Rank =     0 Ttotal =      0.154 MPO method = FastBipartite bond dimension =      94 NNZ =         1266 SIZE =        26498 SPT = 0.9522\n",
            "\n",
            "Sweep =    0 | Direction =  forward | Bond dimension =  250 | Noise =  1.00e-04 | Dav threshold =  1.00e-10\n",
            "Time elapsed =      1.107 | E =    -107.6541224475 | DW = 1.87e-10\n",
            "\n",
            "Sweep =    1 | Direction = backward | Bond dimension =  250 | Noise =  1.00e-04 | Dav threshold =  1.00e-10\n",
            "Time elapsed =      1.640 | E =    -107.6541224475 | DE = -1.07e-11 | DW = 4.78e-20\n",
            "\n",
            "Sweep =    2 | Direction =  forward | Bond dimension =  250 | Noise =  1.00e-04 | Dav threshold =  1.00e-10\n",
            "Time elapsed =      2.154 | E =    -107.6541224475 | DE = 2.84e-14 | DW = 1.87e-10\n",
            "\n",
            "Sweep =    3 | Direction = backward | Bond dimension =  250 | Noise =  1.00e-04 | Dav threshold =  1.00e-10\n",
            "Time elapsed =      2.552 | E =    -107.6541224475 | DE = -1.17e-12 | DW = 5.48e-20\n",
            "\n",
            "Sweep =    4 | Direction =  forward | Bond dimension =  500 | Noise =  1.00e-05 | Dav threshold =  1.00e-10\n",
            "Time elapsed =      3.113 | E =    -107.6541224475 | DE = -2.84e-14 | DW = 2.86e-20\n",
            "\n",
            "Sweep =    5 | Direction = backward | Bond dimension =  500 | Noise =  1.00e-05 | Dav threshold =  1.00e-10\n",
            "Time elapsed =      3.668 | E =    -107.6541224475 | DE = 0.00e+00 | DW = 4.95e-20\n",
            "\n",
            "Sweep =    6 | Direction =  forward | Bond dimension =  500 | Noise =  1.00e-05 | Dav threshold =  1.00e-10\n",
            "Time elapsed =      4.254 | E =    -107.6541224475 | DE = -2.84e-14 | DW = 3.20e-20\n",
            "\n",
            "Sweep =    7 | Direction = backward | Bond dimension =  500 | Noise =  1.00e-05 | Dav threshold =  1.00e-10\n",
            "Time elapsed =      4.842 | E =    -107.6541224475 | DE = 8.53e-14 | DW = 6.54e-20\n",
            "\n",
            "Sweep =    8 | Direction =  forward | Bond dimension =  500 | Noise =  0.00e+00 | Dav threshold =  1.00e-09\n",
            "Time elapsed =      5.168 | E =    -107.6541224475 | DE = 0.00e+00 | DW = 2.97e-20\n",
            "\n",
            "DMRG energy = -107.654122447523932\n",
            "Energy from pdms = -107.654122447523847\n"
          ]
        }
      ],
      "source": [
        "from pyscf import gto, scf\n",
        "\n",
        "mol = gto.M(atom=\"N 0 0 0; N 0 0 1.1\", basis=\"sto3g\", symmetry=\"d2h\", verbose=0)\n",
        "mf = scf.RHF(mol).run(conv_tol=1E-14)\n",
        "ncas, n_elec, spin, ecore, h1e, g2e, orb_sym = itg.get_rhf_integrals(mf,\n",
        "    ncore=0, ncas=None, g2e_symm=8)\n",
        "\n",
        "driver = DMRGDriver(scratch=\"./tmp\", symm_type=SymmetryTypes.SU2, n_threads=4)\n",
        "driver.initialize_system(n_sites=ncas, n_elec=n_elec, spin=spin, orb_sym=orb_sym)\n",
        "\n",
        "bond_dims = [250] * 4 + [500] * 4\n",
        "noises = [1e-4] * 4 + [1e-5] * 4 + [0]\n",
        "thrds = [1e-10] * 8\n",
        "\n",
        "mpo = driver.get_qc_mpo(h1e=h1e, g2e=g2e, ecore=ecore, iprint=1)\n",
        "ket = driver.get_random_mps(tag=\"GS\", bond_dim=250, nroots=1)\n",
        "energy = driver.dmrg(mpo, ket, n_sweeps=20, bond_dims=bond_dims, noises=noises,\n",
        "    thrds=thrds, iprint=1)\n",
        "print('DMRG energy = %20.15f' % energy)\n",
        "\n",
        "pdm1 = driver.get_1pdm(ket)\n",
        "pdm2 = driver.get_2pdm(ket).transpose(0, 3, 1, 2)\n",
        "print('Energy from pdms = %20.15f' % (np.einsum('ij,ij->', pdm1, h1e)\n",
        "    + 0.5 * np.einsum('ijkl,ijkl->', pdm2, driver.unpack_g2e(g2e)) + ecore))"
      ]
    },
    {
      "attachments": {},
      "cell_type": "markdown",
      "metadata": {
        "id": "ErrotOt42zbM"
      },
      "source": [
        "We can also run non-spin-adapted DMRG (``SZ`` mode) using the restricted integrals."
      ]
    },
    {
      "cell_type": "code",
      "execution_count": 4,
      "metadata": {
        "colab": {
          "base_uri": "https://localhost:8080/"
        },
        "id": "rUIaHYBZ2gBZ",
        "outputId": "b1b03796-8b79-4ecc-e02e-576dfda4d912"
      },
      "outputs": [
        {
          "name": "stdout",
          "output_type": "stream",
          "text": [
            "integral symmetrize error =  9.016818189452533e-14\n",
            "integral cutoff error =  0.0\n",
            "mpo terms =       2778\n",
            "\n",
            "Build MPO | Nsites =    10 | Nterms =       2778 | Algorithm = FastBIP | Cutoff = 1.00e-20\n",
            " Site =     0 /    10 .. Mmpo =    26 DW = 0.00e+00 NNZ =       26 SPT = 0.0000 Tmvc = 0.001 T = 0.009\n",
            " Site =     1 /    10 .. Mmpo =    66 DW = 0.00e+00 NNZ =      143 SPT = 0.9167 Tmvc = 0.001 T = 0.007\n",
            " Site =     2 /    10 .. Mmpo =   110 DW = 0.00e+00 NNZ =      283 SPT = 0.9610 Tmvc = 0.001 T = 0.015\n",
            " Site =     3 /    10 .. Mmpo =   138 DW = 0.00e+00 NNZ =     1023 SPT = 0.9326 Tmvc = 0.002 T = 0.015\n",
            " Site =     4 /    10 .. Mmpo =   158 DW = 0.00e+00 NNZ =      535 SPT = 0.9755 Tmvc = 0.001 T = 0.011\n",
            " Site =     5 /    10 .. Mmpo =   186 DW = 0.00e+00 NNZ =      463 SPT = 0.9842 Tmvc = 0.001 T = 0.011\n",
            " Site =     6 /    10 .. Mmpo =   106 DW = 0.00e+00 NNZ =      415 SPT = 0.9790 Tmvc = 0.000 T = 0.006\n",
            " Site =     7 /    10 .. Mmpo =    58 DW = 0.00e+00 NNZ =      163 SPT = 0.9735 Tmvc = 0.000 T = 0.004\n",
            " Site =     8 /    10 .. Mmpo =    26 DW = 0.00e+00 NNZ =       87 SPT = 0.9423 Tmvc = 0.000 T = 0.004\n",
            " Site =     9 /    10 .. Mmpo =     1 DW = 0.00e+00 NNZ =       26 SPT = 0.0000 Tmvc = 0.000 T = 0.005\n",
            "Ttotal =      0.087 Tmvc-total = 0.008 MPO bond dimension =   186 MaxDW = 0.00e+00\n",
            "NNZ =         3164 SIZE =       102772 SPT = 0.9692\n",
            "\n",
            "Rank =     0 Ttotal =      0.130 MPO method = FastBipartite bond dimension =     186 NNZ =         3164 SIZE =       102772 SPT = 0.9692\n",
            "\n",
            "Sweep =    0 | Direction =  forward | Bond dimension =  250 | Noise =  1.00e-04 | Dav threshold =  1.00e-10\n",
            "Time elapsed =      0.831 | E =    -107.6541224475 | DW = 4.14e-08\n",
            "\n",
            "Sweep =    1 | Direction = backward | Bond dimension =  250 | Noise =  1.00e-04 | Dav threshold =  1.00e-10\n",
            "Time elapsed =      1.323 | E =    -107.6541224475 | DE = -4.46e-12 | DW = 5.27e-09\n",
            "\n",
            "Sweep =    2 | Direction =  forward | Bond dimension =  250 | Noise =  1.00e-04 | Dav threshold =  1.00e-10\n",
            "Time elapsed =      1.792 | E =    -107.6541224475 | DE = -1.02e-12 | DW = 4.14e-08\n",
            "\n",
            "Sweep =    3 | Direction = backward | Bond dimension =  250 | Noise =  1.00e-04 | Dav threshold =  1.00e-10\n",
            "Time elapsed =      2.389 | E =    -107.6541224475 | DE = 1.42e-12 | DW = 5.36e-09\n",
            "\n",
            "Sweep =    4 | Direction =  forward | Bond dimension =  500 | Noise =  1.00e-05 | Dav threshold =  1.00e-10\n",
            "Time elapsed =      3.364 | E =    -107.6541224475 | DE = -1.11e-12 | DW = 3.60e-11\n",
            "\n",
            "Sweep =    5 | Direction = backward | Bond dimension =  500 | Noise =  1.00e-05 | Dav threshold =  1.00e-10\n",
            "Time elapsed =      4.355 | E =    -107.6541224475 | DE = 9.09e-13 | DW = 1.51e-19\n",
            "\n",
            "Sweep =    6 | Direction =  forward | Bond dimension =  500 | Noise =  1.00e-05 | Dav threshold =  1.00e-10\n",
            "Time elapsed =      5.296 | E =    -107.6541224475 | DE = 2.84e-14 | DW = 3.60e-11\n",
            "\n",
            "Sweep =    7 | Direction = backward | Bond dimension =  500 | Noise =  1.00e-05 | Dav threshold =  1.00e-10\n",
            "Time elapsed =      6.108 | E =    -107.6541224475 | DE = -1.14e-12 | DW = 1.68e-19\n",
            "\n",
            "Sweep =    8 | Direction =  forward | Bond dimension =  500 | Noise =  0.00e+00 | Dav threshold =  1.00e-09\n",
            "Time elapsed =      6.506 | E =    -107.6541224475 | DE = -2.84e-14 | DW = 8.66e-20\n",
            "\n",
            "DMRG energy = -107.654122447524529\n"
          ]
        }
      ],
      "source": [
        "driver = DMRGDriver(scratch=\"./tmp\", symm_type=SymmetryTypes.SZ, n_threads=4)\n",
        "driver.initialize_system(n_sites=ncas, n_elec=n_elec, spin=spin, orb_sym=orb_sym)\n",
        "\n",
        "mpo = driver.get_qc_mpo(h1e=h1e, g2e=g2e, ecore=ecore, iprint=1)\n",
        "ket = driver.get_random_mps(tag=\"GS\", bond_dim=250, nroots=1)\n",
        "energy = driver.dmrg(mpo, ket, n_sweeps=20, bond_dims=bond_dims, noises=noises,\n",
        "    thrds=thrds, iprint=1)\n",
        "print('DMRG energy = %20.15f' % energy)"
      ]
    },
    {
      "attachments": {},
      "cell_type": "markdown",
      "metadata": {
        "id": "jeeDGMB83AaU"
      },
      "source": [
        "We can also run DMRG in spin orbitals (``SGF`` mode) using the restricted integrals, which will be much slower (for more realistic systems)."
      ]
    },
    {
      "cell_type": "code",
      "execution_count": 5,
      "metadata": {
        "colab": {
          "base_uri": "https://localhost:8080/"
        },
        "id": "yM1JgseK26_K",
        "outputId": "6455262f-f130-4142-91a2-a4d2a288bf91"
      },
      "outputs": [
        {
          "name": "stdout",
          "output_type": "stream",
          "text": [
            "integral symmetrize error =  9.016818189452533e-14\n",
            "integral cutoff error =  0.0\n",
            "mpo terms =       2438\n",
            "\n",
            "Build MPO | Nsites =    20 | Nterms =       2438 | Algorithm = FastBIP | Cutoff = 1.00e-20\n",
            " Site =     0 /    20 .. Mmpo =     7 DW = 0.00e+00 NNZ =        7 SPT = 0.0000 Tmvc = 0.000 T = 0.010\n",
            " Site =     1 /    20 .. Mmpo =    20 DW = 0.00e+00 NNZ =       19 SPT = 0.8643 Tmvc = 0.001 T = 0.009\n",
            " Site =     2 /    20 .. Mmpo =    45 DW = 0.00e+00 NNZ =       45 SPT = 0.9500 Tmvc = 0.002 T = 0.008\n",
            " Site =     3 /    20 .. Mmpo =    62 DW = 0.00e+00 NNZ =      131 SPT = 0.9530 Tmvc = 0.001 T = 0.010\n",
            " Site =     4 /    20 .. Mmpo =    81 DW = 0.00e+00 NNZ =      159 SPT = 0.9683 Tmvc = 0.001 T = 0.008\n",
            " Site =     5 /    20 .. Mmpo =   104 DW = 0.00e+00 NNZ =      203 SPT = 0.9759 Tmvc = 0.001 T = 0.007\n",
            " Site =     6 /    20 .. Mmpo =   125 DW = 0.00e+00 NNZ =      265 SPT = 0.9796 Tmvc = 0.002 T = 0.008\n",
            " Site =     7 /    20 .. Mmpo =   126 DW = 0.00e+00 NNZ =      974 SPT = 0.9382 Tmvc = 0.001 T = 0.009\n",
            " Site =     8 /    20 .. Mmpo =   151 DW = 0.00e+00 NNZ =      188 SPT = 0.9901 Tmvc = 0.001 T = 0.006\n",
            " Site =     9 /    20 .. Mmpo =   148 DW = 0.00e+00 NNZ =      344 SPT = 0.9846 Tmvc = 0.001 T = 0.010\n",
            " Site =    10 /    20 .. Mmpo =   177 DW = 0.00e+00 NNZ =      246 SPT = 0.9906 Tmvc = 0.001 T = 0.006\n",
            " Site =    11 /    20 .. Mmpo =   178 DW = 0.00e+00 NNZ =      402 SPT = 0.9872 Tmvc = 0.001 T = 0.006\n",
            " Site =    12 /    20 .. Mmpo =   147 DW = 0.00e+00 NNZ =      306 SPT = 0.9883 Tmvc = 0.000 T = 0.006\n",
            " Site =    13 /    20 .. Mmpo =   100 DW = 0.00e+00 NNZ =      242 SPT = 0.9835 Tmvc = 0.000 T = 0.009\n",
            " Site =    14 /    20 .. Mmpo =    77 DW = 0.00e+00 NNZ =      150 SPT = 0.9805 Tmvc = 0.000 T = 0.006\n",
            " Site =    15 /    20 .. Mmpo =    54 DW = 0.00e+00 NNZ =       94 SPT = 0.9774 Tmvc = 0.000 T = 0.004\n",
            " Site =    16 /    20 .. Mmpo =    39 DW = 0.00e+00 NNZ =       82 SPT = 0.9611 Tmvc = 0.000 T = 0.008\n",
            " Site =    17 /    20 .. Mmpo =    20 DW = 0.00e+00 NNZ =       50 SPT = 0.9359 Tmvc = 0.000 T = 0.004\n",
            " Site =    18 /    20 .. Mmpo =     7 DW = 0.00e+00 NNZ =       20 SPT = 0.8571 Tmvc = 0.000 T = 0.003\n",
            " Site =    19 /    20 .. Mmpo =     1 DW = 0.00e+00 NNZ =        7 SPT = 0.0000 Tmvc = 0.000 T = 0.003\n",
            "Ttotal =      0.140 Tmvc-total = 0.014 MPO bond dimension =   178 MaxDW = 0.00e+00\n",
            "NNZ =         3934 SIZE =       200866 SPT = 0.9804\n",
            "\n",
            "Rank =     0 Ttotal =      0.204 MPO method = FastBipartite bond dimension =     178 NNZ =         3934 SIZE =       200866 SPT = 0.9804\n",
            "\n",
            "Sweep =    0 | Direction =  forward | Bond dimension =  250 | Noise =  1.00e-04 | Dav threshold =  1.00e-10\n",
            "Time elapsed =      0.935 | E =    -107.6541214061 | DW = 7.63e-08\n",
            "\n",
            "Sweep =    1 | Direction = backward | Bond dimension =  250 | Noise =  1.00e-04 | Dav threshold =  1.00e-10\n",
            "Time elapsed =      1.649 | E =    -107.6541223348 | DE = -9.29e-07 | DW = 6.45e-08\n",
            "\n",
            "Sweep =    2 | Direction =  forward | Bond dimension =  250 | Noise =  1.00e-04 | Dav threshold =  1.00e-10\n",
            "Time elapsed =      2.289 | E =    -107.6541224347 | DE = -9.99e-08 | DW = 7.64e-08\n",
            "\n",
            "Sweep =    3 | Direction = backward | Bond dimension =  250 | Noise =  1.00e-04 | Dav threshold =  1.00e-10\n",
            "Time elapsed =      2.976 | E =    -107.6541224347 | DE = 7.39e-13 | DW = 6.15e-08\n",
            "\n",
            "Sweep =    4 | Direction =  forward | Bond dimension =  500 | Noise =  1.00e-05 | Dav threshold =  1.00e-10\n",
            "Time elapsed =      3.938 | E =    -107.6541224379 | DE = -3.18e-09 | DW = 6.46e-11\n",
            "\n",
            "Sweep =    5 | Direction = backward | Bond dimension =  500 | Noise =  1.00e-05 | Dav threshold =  1.00e-10\n",
            "Time elapsed =      4.837 | E =    -107.6541224379 | DE = -3.39e-11 | DW = 6.30e-20\n",
            "\n",
            "Sweep =    6 | Direction =  forward | Bond dimension =  500 | Noise =  1.00e-05 | Dav threshold =  1.00e-10\n",
            "Time elapsed =      5.788 | E =    -107.6541224379 | DE = 0.00e+00 | DW = 6.46e-11\n",
            "\n",
            "Sweep =    7 | Direction = backward | Bond dimension =  500 | Noise =  1.00e-05 | Dav threshold =  1.00e-10\n",
            "Time elapsed =      7.237 | E =    -107.6541224379 | DE = 6.82e-13 | DW = 7.32e-20\n",
            "\n",
            "Sweep =    8 | Direction =  forward | Bond dimension =  500 | Noise =  0.00e+00 | Dav threshold =  1.00e-09\n",
            "Time elapsed =      8.093 | E =    -107.6541224379 | DE = 2.84e-14 | DW = 6.78e-20\n",
            "\n",
            "DMRG energy = -107.654122437940956\n"
          ]
        }
      ],
      "source": [
        "driver = DMRGDriver(scratch=\"./tmp\", symm_type=SymmetryTypes.SGF, n_threads=4)\n",
        "\n",
        "driver.n_sites = ncas\n",
        "g2e = driver.unpack_g2e(g2e)\n",
        "orb_sym = [orb_sym[i // 2] for i in range(len(orb_sym) * 2)]\n",
        "n_sites = ncas * 2\n",
        "\n",
        "driver.initialize_system(n_sites=n_sites, n_elec=n_elec, spin=spin, orb_sym=orb_sym)\n",
        "\n",
        "mpo = driver.get_qc_mpo(h1e=h1e, g2e=g2e, ecore=ecore, iprint=1)\n",
        "ket = driver.get_random_mps(tag=\"GS\", bond_dim=250, nroots=1)\n",
        "energy = driver.dmrg(mpo, ket, n_sweeps=20, bond_dims=bond_dims, noises=noises,\n",
        "    thrds=thrds, iprint=1)\n",
        "print('DMRG energy = %20.15f' % energy)"
      ]
    },
    {
      "attachments": {},
      "cell_type": "markdown",
      "metadata": {
        "id": "-auHBxs_5KpK"
      },
      "source": [
        "## The ``SZ`` Mode\n",
        "\n",
        "Here we use the ``get_uhf_integrals`` function to get the integrals."
      ]
    },
    {
      "cell_type": "code",
      "execution_count": 6,
      "metadata": {
        "colab": {
          "base_uri": "https://localhost:8080/"
        },
        "id": "dQ_84lHJ3Zbw",
        "outputId": "e368e46b-bb36-4536-b23e-cdd2944b35ef"
      },
      "outputs": [
        {
          "name": "stdout",
          "output_type": "stream",
          "text": [
            "integral symmetrize error =  1.6638583155958613e-13\n",
            "integral cutoff error =  0.0\n",
            "mpo terms =       2778\n",
            "\n",
            "Build MPO | Nsites =    10 | Nterms =       2778 | Algorithm = FastBIP | Cutoff = 1.00e-20\n",
            " Site =     0 /    10 .. Mmpo =    26 DW = 0.00e+00 NNZ =       26 SPT = 0.0000 Tmvc = 0.002 T = 0.009\n",
            " Site =     1 /    10 .. Mmpo =    66 DW = 0.00e+00 NNZ =      143 SPT = 0.9167 Tmvc = 0.001 T = 0.015\n",
            " Site =     2 /    10 .. Mmpo =   110 DW = 0.00e+00 NNZ =      283 SPT = 0.9610 Tmvc = 0.002 T = 0.014\n",
            " Site =     3 /    10 .. Mmpo =   138 DW = 0.00e+00 NNZ =     1023 SPT = 0.9326 Tmvc = 0.001 T = 0.012\n",
            " Site =     4 /    10 .. Mmpo =   158 DW = 0.00e+00 NNZ =      535 SPT = 0.9755 Tmvc = 0.001 T = 0.011\n",
            " Site =     5 /    10 .. Mmpo =   186 DW = 0.00e+00 NNZ =      463 SPT = 0.9842 Tmvc = 0.001 T = 0.008\n",
            " Site =     6 /    10 .. Mmpo =   106 DW = 0.00e+00 NNZ =      415 SPT = 0.9790 Tmvc = 0.001 T = 0.007\n",
            " Site =     7 /    10 .. Mmpo =    58 DW = 0.00e+00 NNZ =      163 SPT = 0.9735 Tmvc = 0.000 T = 0.004\n",
            " Site =     8 /    10 .. Mmpo =    26 DW = 0.00e+00 NNZ =       87 SPT = 0.9423 Tmvc = 0.000 T = 0.003\n",
            " Site =     9 /    10 .. Mmpo =     1 DW = 0.00e+00 NNZ =       26 SPT = 0.0000 Tmvc = 0.000 T = 0.003\n",
            "Ttotal =      0.086 Tmvc-total = 0.009 MPO bond dimension =   186 MaxDW = 0.00e+00\n",
            "NNZ =         3164 SIZE =       102772 SPT = 0.9692\n",
            "\n",
            "Rank =     0 Ttotal =      0.126 MPO method = FastBipartite bond dimension =     186 NNZ =         3164 SIZE =       102772 SPT = 0.9692\n",
            "\n",
            "Sweep =    0 | Direction =  forward | Bond dimension =  250 | Noise =  1.00e-04 | Dav threshold =  1.00e-10\n",
            "Time elapsed =      0.823 | E =    -107.6541224475 | DW = 4.14e-08\n",
            "\n",
            "Sweep =    1 | Direction = backward | Bond dimension =  250 | Noise =  1.00e-04 | Dav threshold =  1.00e-10\n",
            "Time elapsed =      1.336 | E =    -107.6541224475 | DE = -1.26e-11 | DW = 5.18e-09\n",
            "\n",
            "Sweep =    2 | Direction =  forward | Bond dimension =  250 | Noise =  1.00e-04 | Dav threshold =  1.00e-10\n",
            "Time elapsed =      1.794 | E =    -107.6541224475 | DE = -9.66e-13 | DW = 4.14e-08\n",
            "\n",
            "Sweep =    3 | Direction = backward | Bond dimension =  250 | Noise =  1.00e-04 | Dav threshold =  1.00e-10\n",
            "Time elapsed =      2.282 | E =    -107.6541224475 | DE = 1.22e-12 | DW = 5.37e-09\n",
            "\n",
            "Sweep =    4 | Direction =  forward | Bond dimension =  500 | Noise =  1.00e-05 | Dav threshold =  1.00e-10\n",
            "Time elapsed =      2.835 | E =    -107.6541224475 | DE = -9.95e-13 | DW = 3.60e-11\n",
            "\n",
            "Sweep =    5 | Direction = backward | Bond dimension =  500 | Noise =  1.00e-05 | Dav threshold =  1.00e-10\n",
            "Time elapsed =      3.405 | E =    -107.6541224475 | DE = 9.09e-13 | DW = 1.69e-19\n",
            "\n",
            "Sweep =    6 | Direction =  forward | Bond dimension =  500 | Noise =  1.00e-05 | Dav threshold =  1.00e-10\n",
            "Time elapsed =      3.992 | E =    -107.6541224475 | DE = 2.84e-14 | DW = 3.60e-11\n",
            "\n",
            "Sweep =    7 | Direction = backward | Bond dimension =  500 | Noise =  1.00e-05 | Dav threshold =  1.00e-10\n",
            "Time elapsed =      4.568 | E =    -107.6541224475 | DE = -1.22e-12 | DW = 1.63e-19\n",
            "\n",
            "Sweep =    8 | Direction =  forward | Bond dimension =  500 | Noise =  0.00e+00 | Dav threshold =  1.00e-09\n",
            "Time elapsed =      4.956 | E =    -107.6541224475 | DE = -2.84e-14 | DW = 9.42e-20\n",
            "\n",
            "DMRG energy = -107.654122447524443\n"
          ]
        }
      ],
      "source": [
        "from pyscf import gto, scf\n",
        "\n",
        "mol = gto.M(atom=\"N 0 0 0; N 0 0 1.1\", basis=\"sto3g\", symmetry=\"d2h\", verbose=0)\n",
        "mf = scf.UHF(mol).run(conv_tol=1E-14)\n",
        "ncas, n_elec, spin, ecore, h1e, g2e, orb_sym = itg.get_uhf_integrals(mf,\n",
        "    ncore=0, ncas=None, g2e_symm=8)\n",
        "\n",
        "driver = DMRGDriver(scratch=\"./tmp\", symm_type=SymmetryTypes.SZ, n_threads=4)\n",
        "driver.initialize_system(n_sites=ncas, n_elec=n_elec, spin=spin, orb_sym=orb_sym)\n",
        "\n",
        "mpo = driver.get_qc_mpo(h1e=h1e, g2e=g2e, ecore=ecore, iprint=1)\n",
        "ket = driver.get_random_mps(tag=\"GS\", bond_dim=250, nroots=1)\n",
        "energy = driver.dmrg(mpo, ket, n_sweeps=20, bond_dims=bond_dims, noises=noises,\n",
        "    thrds=thrds, iprint=1)\n",
        "print('DMRG energy = %20.15f' % energy)"
      ]
    },
    {
      "attachments": {},
      "cell_type": "markdown",
      "metadata": {
        "id": "xBptlc0J5m7x"
      },
      "source": [
        "## The ``SGF`` Mode\n",
        "\n",
        "Here we use the ``get_ghf_integrals`` function to get the integrals."
      ]
    },
    {
      "cell_type": "code",
      "execution_count": 7,
      "metadata": {
        "colab": {
          "base_uri": "https://localhost:8080/"
        },
        "id": "4aRS3PNz5iCK",
        "outputId": "795bdff5-b6aa-4215-f44e-3f905bf1111c"
      },
      "outputs": [
        {
          "name": "stdout",
          "output_type": "stream",
          "text": [
            "integral symmetrize error =  2.195446592452528e-13\n",
            "integral cutoff error =  0.0\n",
            "mpo terms =       5948\n",
            "\n",
            "Build MPO | Nsites =    20 | Nterms =       5948 | Algorithm = FastBIP | Cutoff = 1.00e-20\n",
            " Site =     0 /    20 .. Mmpo =     7 DW = 0.00e+00 NNZ =        7 SPT = 0.0000 Tmvc = 0.001 T = 0.024\n",
            " Site =     1 /    20 .. Mmpo =    20 DW = 0.00e+00 NNZ =       19 SPT = 0.8643 Tmvc = 0.003 T = 0.016\n",
            " Site =     2 /    20 .. Mmpo =    47 DW = 0.00e+00 NNZ =       49 SPT = 0.9479 Tmvc = 0.003 T = 0.012\n",
            " Site =     3 /    20 .. Mmpo =    62 DW = 0.00e+00 NNZ =      251 SPT = 0.9139 Tmvc = 0.003 T = 0.015\n",
            " Site =     4 /    20 .. Mmpo =    81 DW = 0.00e+00 NNZ =      269 SPT = 0.9464 Tmvc = 0.003 T = 0.015\n",
            " Site =     5 /    20 .. Mmpo =   104 DW = 0.00e+00 NNZ =      355 SPT = 0.9579 Tmvc = 0.003 T = 0.013\n",
            " Site =     6 /    20 .. Mmpo =   129 DW = 0.00e+00 NNZ =      563 SPT = 0.9580 Tmvc = 0.004 T = 0.021\n",
            " Site =     7 /    20 .. Mmpo =   126 DW = 0.00e+00 NNZ =     2316 SPT = 0.8575 Tmvc = 0.002 T = 0.021\n",
            " Site =     8 /    20 .. Mmpo =   155 DW = 0.00e+00 NNZ =      214 SPT = 0.9890 Tmvc = 0.004 T = 0.027\n",
            " Site =     9 /    20 .. Mmpo =   148 DW = 0.00e+00 NNZ =      708 SPT = 0.9691 Tmvc = 0.003 T = 0.013\n",
            " Site =    10 /    20 .. Mmpo =   181 DW = 0.00e+00 NNZ =      398 SPT = 0.9851 Tmvc = 0.001 T = 0.021\n",
            " Site =    11 /    20 .. Mmpo =   178 DW = 0.00e+00 NNZ =      718 SPT = 0.9777 Tmvc = 0.004 T = 0.023\n",
            " Site =    12 /    20 .. Mmpo =   147 DW = 0.00e+00 NNZ =      496 SPT = 0.9810 Tmvc = 0.001 T = 0.031\n",
            " Site =    13 /    20 .. Mmpo =   100 DW = 0.00e+00 NNZ =      410 SPT = 0.9721 Tmvc = 0.001 T = 0.006\n",
            " Site =    14 /    20 .. Mmpo =    77 DW = 0.00e+00 NNZ =      254 SPT = 0.9670 Tmvc = 0.000 T = 0.005\n",
            " Site =    15 /    20 .. Mmpo =    54 DW = 0.00e+00 NNZ =      118 SPT = 0.9716 Tmvc = 0.001 T = 0.004\n",
            " Site =    16 /    20 .. Mmpo =    39 DW = 0.00e+00 NNZ =      124 SPT = 0.9411 Tmvc = 0.000 T = 0.004\n",
            " Site =    17 /    20 .. Mmpo =    20 DW = 0.00e+00 NNZ =       74 SPT = 0.9051 Tmvc = 0.000 T = 0.003\n",
            " Site =    18 /    20 .. Mmpo =     7 DW = 0.00e+00 NNZ =       20 SPT = 0.8571 Tmvc = 0.000 T = 0.003\n",
            " Site =    19 /    20 .. Mmpo =     1 DW = 0.00e+00 NNZ =        7 SPT = 0.0000 Tmvc = 0.000 T = 0.003\n",
            "Ttotal =      0.282 Tmvc-total = 0.037 MPO bond dimension =   181 MaxDW = 0.00e+00\n",
            "NNZ =         7370 SIZE =       204350 SPT = 0.9639\n",
            "\n",
            "Rank =     0 Ttotal =      0.397 MPO method = FastBipartite bond dimension =     181 NNZ =         7370 SIZE =       204350 SPT = 0.9639\n",
            "\n",
            "Sweep =    0 | Direction =  forward | Bond dimension =  250 | Noise =  1.00e-04 | Dav threshold =  1.00e-10\n",
            "Time elapsed =      2.170 | E =    -107.6541220534 | DW = 7.49e-08\n",
            "\n",
            "Sweep =    1 | Direction = backward | Bond dimension =  250 | Noise =  1.00e-04 | Dav threshold =  1.00e-10\n",
            "Time elapsed =      4.014 | E =    -107.6541223446 | DE = -2.91e-07 | DW = 6.92e-08\n",
            "\n",
            "Sweep =    2 | Direction =  forward | Bond dimension =  250 | Noise =  1.00e-04 | Dav threshold =  1.00e-10\n",
            "Time elapsed =      5.890 | E =    -107.6541224348 | DE = -9.02e-08 | DW = 7.50e-08\n",
            "\n",
            "Sweep =    3 | Direction = backward | Bond dimension =  250 | Noise =  1.00e-04 | Dav threshold =  1.00e-10\n",
            "Time elapsed =      7.570 | E =    -107.6541224348 | DE = 7.96e-13 | DW = 6.60e-08\n",
            "\n",
            "Sweep =    4 | Direction =  forward | Bond dimension =  500 | Noise =  1.00e-05 | Dav threshold =  1.00e-10\n",
            "Time elapsed =      9.612 | E =    -107.6541224379 | DE = -3.16e-09 | DW = 6.35e-11\n",
            "\n",
            "Sweep =    5 | Direction = backward | Bond dimension =  500 | Noise =  1.00e-05 | Dav threshold =  1.00e-10\n",
            "Time elapsed =     11.483 | E =    -107.6541224379 | DE = 4.26e-13 | DW = 7.23e-20\n",
            "\n",
            "Sweep =    6 | Direction =  forward | Bond dimension =  500 | Noise =  1.00e-05 | Dav threshold =  1.00e-10\n",
            "Time elapsed =     13.573 | E =    -107.6541224379 | DE = 0.00e+00 | DW = 6.35e-11\n",
            "\n",
            "Sweep =    7 | Direction = backward | Bond dimension =  500 | Noise =  1.00e-05 | Dav threshold =  1.00e-10\n",
            "Time elapsed =     15.436 | E =    -107.6541224379 | DE = -2.47e-12 | DW = 7.77e-20\n",
            "\n",
            "Sweep =    8 | Direction =  forward | Bond dimension =  500 | Noise =  0.00e+00 | Dav threshold =  1.00e-09\n",
            "Time elapsed =     16.106 | E =    -107.6541224379 | DE = -2.84e-14 | DW = 6.27e-20\n",
            "\n",
            "DMRG energy = -107.654122437941297\n"
          ]
        }
      ],
      "source": [
        "from pyscf import gto, scf\n",
        "\n",
        "mol = gto.M(atom=\"N 0 0 0; N 0 0 1.1\", basis=\"sto3g\", symmetry=\"d2h\", verbose=0)\n",
        "mf = scf.GHF(mol).run(conv_tol=1E-14)\n",
        "ncas, n_elec, spin, ecore, h1e, g2e, orb_sym = itg.get_ghf_integrals(mf,\n",
        "    ncore=0, ncas=None, g2e_symm=8)\n",
        "\n",
        "driver = DMRGDriver(scratch=\"./tmp\", symm_type=SymmetryTypes.SGF, n_threads=4)\n",
        "driver.initialize_system(n_sites=ncas, n_elec=n_elec, spin=spin, orb_sym=orb_sym)\n",
        "\n",
        "mpo = driver.get_qc_mpo(h1e=h1e, g2e=g2e, ecore=ecore, iprint=1)\n",
        "ket = driver.get_random_mps(tag=\"GS\", bond_dim=250, nroots=1)\n",
        "energy = driver.dmrg(mpo, ket, n_sweeps=20, bond_dims=bond_dims, noises=noises,\n",
        "    thrds=thrds, iprint=1)\n",
        "print('DMRG energy = %20.15f' % energy)"
      ]
    },
    {
      "attachments": {},
      "cell_type": "markdown",
      "metadata": {
        "id": "yM7OGJQV556O"
      },
      "source": [
        "## Relativistic DMRG\n",
        "\n",
        "For relativistic DMRG, we use the ``get_dhf_integrals`` function to get the integrals. We use the ``SGFCPX`` Mode in ``block2`` to execute DMRG. Note that the integrals, MPO, and MPS will all contain complex numbers in this mode."
      ]
    },
    {
      "cell_type": "code",
      "execution_count": 8,
      "metadata": {
        "colab": {
          "base_uri": "https://localhost:8080/"
        },
        "id": "16tFcwdw50gU",
        "outputId": "f9f4d570-d26b-4fa9-8050-44d3455c9ce2"
      },
      "outputs": [
        {
          "name": "stdout",
          "output_type": "stream",
          "text": [
            "integral symmetrize error =  0.0\n",
            "integral cutoff error =  2.9170571933900254e-20\n",
            "mpo terms =      26566\n",
            "\n",
            "Build MPO | Nsites =    20 | Nterms =      26566 | Algorithm = FastBIP | Cutoff = 1.00e-20\n",
            " Site =     0 /    20 .. Mmpo =     9 DW = 0.00e+00 NNZ =        9 SPT = 0.0000 Tmvc = 0.003 T = 0.013\n",
            " Site =     1 /    20 .. Mmpo =    28 DW = 0.00e+00 NNZ =       23 SPT = 0.9087 Tmvc = 0.003 T = 0.018\n",
            " Site =     2 /    20 .. Mmpo =    63 DW = 0.00e+00 NNZ =      320 SPT = 0.8186 Tmvc = 0.006 T = 0.026\n",
            " Site =     3 /    20 .. Mmpo =    78 DW = 0.00e+00 NNZ =      440 SPT = 0.9105 Tmvc = 0.005 T = 0.024\n",
            " Site =     4 /    20 .. Mmpo =    97 DW = 0.00e+00 NNZ =      605 SPT = 0.9200 Tmvc = 0.005 T = 0.025\n",
            " Site =     5 /    20 .. Mmpo =   120 DW = 0.00e+00 NNZ =      728 SPT = 0.9375 Tmvc = 0.007 T = 0.029\n",
            " Site =     6 /    20 .. Mmpo =   147 DW = 0.00e+00 NNZ =      992 SPT = 0.9438 Tmvc = 0.012 T = 0.041\n",
            " Site =     7 /    20 .. Mmpo =   178 DW = 0.00e+00 NNZ =     1163 SPT = 0.9556 Tmvc = 0.008 T = 0.033\n",
            " Site =     8 /    20 .. Mmpo =   213 DW = 0.00e+00 NNZ =     1971 SPT = 0.9480 Tmvc = 0.007 T = 0.031\n",
            " Site =     9 /    20 .. Mmpo =   252 DW = 0.00e+00 NNZ =     2107 SPT = 0.9607 Tmvc = 0.007 T = 0.025\n",
            " Site =    10 /    20 .. Mmpo =   213 DW = 0.00e+00 NNZ =    11022 SPT = 0.7947 Tmvc = 0.012 T = 0.055\n",
            " Site =    11 /    20 .. Mmpo =   178 DW = 0.00e+00 NNZ =     1717 SPT = 0.9547 Tmvc = 0.003 T = 0.018\n",
            " Site =    12 /    20 .. Mmpo =   147 DW = 0.00e+00 NNZ =     1641 SPT = 0.9373 Tmvc = 0.002 T = 0.015\n",
            " Site =    13 /    20 .. Mmpo =   120 DW = 0.00e+00 NNZ =     1197 SPT = 0.9321 Tmvc = 0.002 T = 0.014\n",
            " Site =    14 /    20 .. Mmpo =    97 DW = 0.00e+00 NNZ =      859 SPT = 0.9262 Tmvc = 0.002 T = 0.011\n",
            " Site =    15 /    20 .. Mmpo =    78 DW = 0.00e+00 NNZ =      682 SPT = 0.9099 Tmvc = 0.001 T = 0.008\n",
            " Site =    16 /    20 .. Mmpo =    63 DW = 0.00e+00 NNZ =      328 SPT = 0.9333 Tmvc = 0.001 T = 0.006\n",
            " Site =    17 /    20 .. Mmpo =    28 DW = 0.00e+00 NNZ =      238 SPT = 0.8651 Tmvc = 0.000 T = 0.004\n",
            " Site =    18 /    20 .. Mmpo =     9 DW = 0.00e+00 NNZ =       34 SPT = 0.8651 Tmvc = 0.000 T = 0.003\n",
            " Site =    19 /    20 .. Mmpo =     1 DW = 0.00e+00 NNZ =        9 SPT = 0.0000 Tmvc = 0.000 T = 0.002\n",
            "Ttotal =      0.403 Tmvc-total = 0.086 MPO bond dimension =   252 MaxDW = 0.00e+00\n",
            "NNZ =        26085 SIZE =       323082 SPT = 0.9193\n",
            "\n",
            "Rank =     0 Ttotal =      0.500 MPO method = FastBipartite bond dimension =     252 NNZ =        26085 SIZE =       323082 SPT = 0.9193\n",
            "\n",
            "Sweep =    0 | Direction =  forward | Bond dimension =  250 | Noise =  1.00e-04 | Dav threshold =  1.00e-10\n",
            "Time elapsed =     27.037 | E =    -107.6929206223 | DW = 6.66e-10\n",
            "\n",
            "Sweep =    1 | Direction = backward | Bond dimension =  250 | Noise =  1.00e-04 | Dav threshold =  1.00e-10\n",
            "Time elapsed =     39.215 | E =    -107.6929209453 | DE = -3.23e-07 | DW = 7.27e-10\n",
            "\n",
            "Sweep =    2 | Direction =  forward | Bond dimension =  250 | Noise =  1.00e-04 | Dav threshold =  1.00e-10\n",
            "Time elapsed =     49.219 | E =    -107.6929209492 | DE = -3.91e-09 | DW = 2.32e-10\n",
            "\n",
            "Sweep =    3 | Direction = backward | Bond dimension =  250 | Noise =  1.00e-04 | Dav threshold =  1.00e-10\n",
            "Time elapsed =     57.774 | E =    -107.6929209492 | DE = -3.98e-13 | DW = 7.32e-10\n",
            "\n",
            "Sweep =    4 | Direction =  forward | Bond dimension =  500 | Noise =  1.00e-05 | Dav threshold =  1.00e-10\n",
            "Time elapsed =     75.576 | E =    -107.6929209492 | DE = -5.12e-13 | DW = 6.34e-20\n",
            "\n",
            "Sweep =    5 | Direction = backward | Bond dimension =  500 | Noise =  1.00e-05 | Dav threshold =  1.00e-10\n",
            "Time elapsed =     91.974 | E =    -107.6929209492 | DE = 2.84e-14 | DW = 1.05e-19\n",
            "\n",
            "Sweep =    6 | Direction =  forward | Bond dimension =  500 | Noise =  1.00e-05 | Dav threshold =  1.00e-10\n",
            "Time elapsed =    112.150 | E =    -107.6929209492 | DE = -2.84e-14 | DW = 7.11e-20\n",
            "\n",
            "Sweep =    7 | Direction = backward | Bond dimension =  500 | Noise =  1.00e-05 | Dav threshold =  1.00e-10\n",
            "Time elapsed =    130.356 | E =    -107.6929209492 | DE = -2.84e-14 | DW = 1.12e-19\n",
            "\n",
            "Sweep =    8 | Direction =  forward | Bond dimension =  500 | Noise =  0.00e+00 | Dav threshold =  1.00e-09\n",
            "Time elapsed =    138.078 | E =    -107.6929209492 | DE = 2.84e-14 | DW = 7.25e-20\n",
            "\n",
            "DMRG energy = -107.692920949169959\n"
          ]
        }
      ],
      "source": [
        "from pyscf import gto, scf\n",
        "\n",
        "mol = gto.M(atom=\"N 0 0 0; N 0 0 1.1\", basis=\"sto3g\", symmetry=\"d2h\", verbose=0)\n",
        "mf = scf.DHF(mol).set(with_gaunt=True, with_breit=True).run(conv_tol=1E-12)\n",
        "ncas, n_elec, spin, ecore, h1e, g2e, orb_sym = itg.get_dhf_integrals(mf,\n",
        "    ncore=0, ncas=None, pg_symm=False)\n",
        "\n",
        "driver = DMRGDriver(scratch=\"./tmp\", symm_type=SymmetryTypes.SGFCPX, n_threads=4)\n",
        "driver.initialize_system(n_sites=ncas, n_elec=n_elec, spin=spin, orb_sym=orb_sym)\n",
        "\n",
        "mpo = driver.get_qc_mpo(h1e=h1e, g2e=g2e, ecore=ecore, iprint=1)\n",
        "ket = driver.get_random_mps(tag=\"GS\", bond_dim=250, nroots=1)\n",
        "energy = driver.dmrg(mpo, ket, n_sweeps=20, bond_dims=bond_dims, noises=noises,\n",
        "    thrds=thrds, iprint=1)\n",
        "print('DMRG energy = %20.15f' % energy)"
      ]
    },
    {
      "attachments": {},
      "cell_type": "markdown",
      "metadata": {
        "id": "r8wd-wIq7pKV"
      },
      "source": [
        "## Expectation and N-Particle Density Matrix"
      ]
    },
    {
      "attachments": {},
      "cell_type": "markdown",
      "metadata": {
        "id": "Q2jepYQu7vOW"
      },
      "source": [
        "Once the optimized MPS is obtained, we can compute the expectation value on it, including its norm, the energy expectation, $\\langle S^2 \\rangle$, N-particle density matrix, or any operator that can be constructed as an MPO.\n",
        "\n",
        "In this example, we compute the triplet state."
      ]
    },
    {
      "cell_type": "code",
      "execution_count": 9,
      "metadata": {
        "colab": {
          "base_uri": "https://localhost:8080/"
        },
        "id": "sYihDUiI6mTn",
        "outputId": "838d06c0-f8d4-4cc6-c181-32b9561c5df9"
      },
      "outputs": [
        {
          "name": "stdout",
          "output_type": "stream",
          "text": [
            "\n",
            "Sweep =    0 | Direction =  forward | Bond dimension =  250 | Noise =  1.00e-04 | Dav threshold =  1.00e-10\n",
            "Time elapsed =      0.632 | E =    -106.9391328597 | DW = 3.38e-10\n",
            "\n",
            "Sweep =    1 | Direction = backward | Bond dimension =  250 | Noise =  1.00e-04 | Dav threshold =  1.00e-10\n",
            "Time elapsed =      0.963 | E =    -106.9391328597 | DE = -4.92e-12 | DW = 8.92e-19\n",
            "\n",
            "Sweep =    2 | Direction =  forward | Bond dimension =  250 | Noise =  1.00e-04 | Dav threshold =  1.00e-10\n",
            "Time elapsed =      1.267 | E =    -106.9391328597 | DE = 0.00e+00 | DW = 3.38e-10\n",
            "\n",
            "Sweep =    3 | Direction = backward | Bond dimension =  250 | Noise =  1.00e-04 | Dav threshold =  1.00e-10\n",
            "Time elapsed =      1.599 | E =    -106.9391328597 | DE = 1.71e-13 | DW = 1.20e-18\n",
            "\n",
            "Sweep =    4 | Direction =  forward | Bond dimension =  500 | Noise =  1.00e-05 | Dav threshold =  1.00e-10\n",
            "Time elapsed =      1.964 | E =    -106.9391328597 | DE = 0.00e+00 | DW = 1.12e-16\n",
            "\n",
            "Sweep =    5 | Direction = backward | Bond dimension =  500 | Noise =  1.00e-05 | Dav threshold =  1.00e-10\n",
            "Time elapsed =      2.288 | E =    -106.9391328597 | DE = 8.53e-14 | DW = 1.23e-19\n",
            "\n",
            "Sweep =    6 | Direction =  forward | Bond dimension =  500 | Noise =  1.00e-05 | Dav threshold =  1.00e-10\n",
            "Time elapsed =      2.664 | E =    -106.9391328597 | DE = 2.84e-14 | DW = 1.12e-16\n",
            "\n",
            "Sweep =    7 | Direction = backward | Bond dimension =  500 | Noise =  1.00e-05 | Dav threshold =  1.00e-10\n",
            "Time elapsed =      2.984 | E =    -106.9391328597 | DE = -2.84e-14 | DW = 1.23e-19\n",
            "\n",
            "Sweep =    8 | Direction =  forward | Bond dimension =  500 | Noise =  0.00e+00 | Dav threshold =  1.00e-09\n",
            "Time elapsed =      3.236 | E =    -106.9391328597 | DE = 0.00e+00 | DW = 1.72e-20\n",
            "\n",
            "DMRG energy = -106.939132859666685\n",
            "Norm =    0.999999999999999\n",
            "Energy expectation = -106.939132859666685\n",
            "<S^2> expectation =    2.000000000000000\n"
          ]
        }
      ],
      "source": [
        "from pyscf import gto, scf\n",
        "\n",
        "mol = gto.M(atom=\"N 0 0 0; N 0 0 1.1\", basis=\"sto3g\", symmetry=\"d2h\", verbose=0)\n",
        "mf = scf.RHF(mol).run(conv_tol=1E-14)\n",
        "ncas, n_elec, spin, ecore, h1e, g2e, orb_sym = itg.get_rhf_integrals(mf,\n",
        "    ncore=0, ncas=None, g2e_symm=8)\n",
        "\n",
        "spin = 2\n",
        "\n",
        "driver = DMRGDriver(scratch=\"./tmp\", symm_type=SymmetryTypes.SU2, n_threads=4)\n",
        "driver.initialize_system(n_sites=ncas, n_elec=n_elec, spin=spin, orb_sym=orb_sym)\n",
        "\n",
        "mpo = driver.get_qc_mpo(h1e=h1e, g2e=g2e, ecore=ecore, iprint=0)\n",
        "\n",
        "ket = driver.get_random_mps(tag=\"GS\", bond_dim=250, nroots=1)\n",
        "energy = driver.dmrg(mpo, ket, n_sweeps=20, bond_dims=bond_dims, noises=noises,\n",
        "    thrds=thrds, iprint=1)\n",
        "print('DMRG energy = %20.15f' % energy)\n",
        "\n",
        "impo = driver.get_identity_mpo()\n",
        "\n",
        "norm = driver.expectation(ket, impo, ket)\n",
        "ener = driver.expectation(ket, mpo, ket)\n",
        "\n",
        "print('Norm = %20.15f' % norm)\n",
        "print('Energy expectation = %20.15f' % (ener / norm))\n",
        "\n",
        "# <S^2> [ in spin-adapted mode this is always S(S+1) ]\n",
        "ssq_mpo = driver.get_spin_square_mpo(iprint=0)\n",
        "ssq = driver.expectation(ket, ssq_mpo, ket)\n",
        "print('<S^2> expectation = %20.15f' % (ssq / norm))"
      ]
    },
    {
      "attachments": {},
      "cell_type": "markdown",
      "metadata": {
        "id": "5uw83pUS9hkY"
      },
      "source": [
        "We can also evaluate expectation of arbitray operator such as the occupancy in the first orbital\n",
        "\n",
        "$$\n",
        "\\hat{N}_0 = a^\\dagger_{0\\alpha} a_{0\\alpha} + a^\\dagger_{0\\beta} a_{0\\beta}\n",
        "= \\sqrt{2} \\big(a_0^\\dagger\\big)^{[1/2]} \\otimes_{[0]} \\big(a_0\\big)^{[1/2]}\n",
        "$$\n",
        "\n",
        "For the usage of ``add_term`` function, please have a look at the [Hubbard - Build Hamiltonian (SZ)](https://block2.readthedocs.io/en/latest/tutorial/hubbard.html#Build-Hamiltonian) and [Hubbard - Build Hamiltonian (SU2)](https://block2.readthedocs.io/en/latest/tutorial/hubbard.html#id2) page."
      ]
    },
    {
      "cell_type": "code",
      "execution_count": 10,
      "metadata": {
        "colab": {
          "base_uri": "https://localhost:8080/"
        },
        "id": "gRqEzZnK8d8h",
        "outputId": "ca75dee6-d7b3-4fec-d561-ef8c35ef96c3"
      },
      "outputs": [
        {
          "name": "stdout",
          "output_type": "stream",
          "text": [
            "N0 expectation =    1.999995824360303\n"
          ]
        }
      ],
      "source": [
        "b = driver.expr_builder()\n",
        "b.add_term(\"(C+D)0\", [0, 0], np.sqrt(2))\n",
        "n_mpo = driver.get_mpo(b.finalize(), iprint=0)\n",
        "\n",
        "n_0 = driver.expectation(ket, n_mpo, ket)\n",
        "print('N0 expectation = %20.15f' % (n_0 / norm))"
      ]
    },
    {
      "attachments": {},
      "cell_type": "markdown",
      "metadata": {
        "id": "axO7Quw3-L9v"
      },
      "source": [
        "We can then verify this number using 1PDM:"
      ]
    },
    {
      "cell_type": "code",
      "execution_count": 11,
      "metadata": {
        "colab": {
          "base_uri": "https://localhost:8080/"
        },
        "id": "AiPieq3Z-JrA",
        "outputId": "53bd72d6-c410-4497-8521-cf808a3a90c0"
      },
      "outputs": [
        {
          "name": "stdout",
          "output_type": "stream",
          "text": [
            "N0 expectation from 1pdm =    1.999995824360300\n"
          ]
        }
      ],
      "source": [
        "pdm1 = driver.get_1pdm(ket)\n",
        "print('N0 expectation from 1pdm = %20.15f' % pdm1[0, 0])"
      ]
    },
    {
      "attachments": {},
      "cell_type": "markdown",
      "metadata": {
        "id": "xdFhzPE7-rb6"
      },
      "source": [
        "We can compute the 3PDM and compare the result with the FCI 3PDM. Note that in ``pyscf`` the 3PDM is defined as \n",
        "\n",
        "$$\n",
        "\\mathrm{DM}_{ijklmn} := \\langle E_{ij} E_{kl} E_{mn} \\rangle\n",
        "$$\n",
        "\n",
        "So we have to use the same convention in ``block2`` by setting the ``npdm_expr`` parameter in ``block2`` to ``((C+D)0+((C+D)0+(C+D)0)0)0``.\n"
      ]
    },
    {
      "cell_type": "code",
      "execution_count": 12,
      "metadata": {
        "colab": {
          "base_uri": "https://localhost:8080/"
        },
        "id": "NIxjfBJP-byp",
        "outputId": "0e54f9f8-5b73-478e-c76b-762dfacbe955"
      },
      "outputs": [
        {
          "name": "stdout",
          "output_type": "stream",
          "text": [
            "[-106.93913286 -106.85412245 -106.70055113]\n",
            "diff =  8.328760079421614e-06\n"
          ]
        }
      ],
      "source": [
        "pdm3_b2 = driver.get_3pdm(ket, iprint=0, npdm_expr=\"((C+D)0+((C+D)0+(C+D)0)0)0\")\n",
        "\n",
        "from pyscf import fci\n",
        "\n",
        "mx = fci.addons.fix_spin_(fci.FCI(mf), ss=2)\n",
        "mx.kernel(h1e, g2e, ncas, nelec=n_elec, nroots=3, tol=1E-12)\n",
        "print(mx.e_tot)\n",
        "pdm3_fci = fci.rdm.make_dm123('FCI3pdm_kern_sf', mx.ci[0], mx.ci[0], ncas, n_elec)[2]\n",
        "\n",
        "print('diff = ', np.linalg.norm(pdm3_fci - pdm3_b2))"
      ]
    }
  ],
  "metadata": {
    "colab": {
      "provenance": []
    },
    "kernelspec": {
      "display_name": "Python 3",
      "name": "python3"
    },
    "language_info": {
      "name": "python"
    }
  },
  "nbformat": 4,
  "nbformat_minor": 0
}
